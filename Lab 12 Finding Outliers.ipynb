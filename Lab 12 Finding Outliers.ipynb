{
 "cells": [
  {
   "cell_type": "markdown",
   "metadata": {},
   "source": [
    "<p style=\"text-align:center\">\n",
    "    <a href=\"https://skills.network\" target=\"_blank\">\n",
    "    <img src=\"https://cf-courses-data.s3.us.cloud-object-storage.appdomain.cloud/assets/logos/SN_web_lightmode.png\" width=\"200\" alt=\"Skills Network Logo\"  />\n",
    "    </a>\n",
    "</p>\n"
   ]
  },
  {
   "cell_type": "markdown",
   "metadata": {},
   "source": [
    "# **Finding Outliers**\n"
   ]
  },
  {
   "cell_type": "markdown",
   "metadata": {},
   "source": [
    "Estimated time needed: **30** minutes\n"
   ]
  },
  {
   "cell_type": "markdown",
   "metadata": {},
   "source": [
    "In this lab, you will work with a cleaned dataset to perform exploratory data analysis or EDA. \n",
    "You will explore the distribution of key variables and focus on identifying outliers in this lab.\n"
   ]
  },
  {
   "cell_type": "markdown",
   "metadata": {},
   "source": [
    "## Objectives\n"
   ]
  },
  {
   "cell_type": "markdown",
   "metadata": {},
   "source": [
    "In this lab, you will perform the following:\n"
   ]
  },
  {
   "cell_type": "markdown",
   "metadata": {},
   "source": [
    "-  Analyze the distribution of key variables in the dataset.\n",
    "\n",
    "-  Identify and remove outliers using statistical methods.\n",
    "\n",
    "-  Perform relevant statistical and correlation analysis.\n"
   ]
  },
  {
   "cell_type": "markdown",
   "metadata": {},
   "source": [
    "#### Install and import the required libraries\n"
   ]
  },
  {
   "cell_type": "code",
   "execution_count": 1,
   "metadata": {},
   "outputs": [
    {
     "name": "stdout",
     "output_type": "stream",
     "text": [
      "Requirement already satisfied: pandas in /opt/conda/lib/python3.12/site-packages (2.2.3)\n",
      "Requirement already satisfied: numpy>=1.26.0 in /opt/conda/lib/python3.12/site-packages (from pandas) (2.2.4)\n",
      "Requirement already satisfied: python-dateutil>=2.8.2 in /opt/conda/lib/python3.12/site-packages (from pandas) (2.9.0.post0)\n",
      "Requirement already satisfied: pytz>=2020.1 in /opt/conda/lib/python3.12/site-packages (from pandas) (2024.2)\n",
      "Requirement already satisfied: tzdata>=2022.7 in /opt/conda/lib/python3.12/site-packages (from pandas) (2025.2)\n",
      "Requirement already satisfied: six>=1.5 in /opt/conda/lib/python3.12/site-packages (from python-dateutil>=2.8.2->pandas) (1.17.0)\n",
      "Requirement already satisfied: matplotlib in /opt/conda/lib/python3.12/site-packages (3.10.1)\n",
      "Requirement already satisfied: contourpy>=1.0.1 in /opt/conda/lib/python3.12/site-packages (from matplotlib) (1.3.1)\n",
      "Requirement already satisfied: cycler>=0.10 in /opt/conda/lib/python3.12/site-packages (from matplotlib) (0.12.1)\n",
      "Requirement already satisfied: fonttools>=4.22.0 in /opt/conda/lib/python3.12/site-packages (from matplotlib) (4.57.0)\n",
      "Requirement already satisfied: kiwisolver>=1.3.1 in /opt/conda/lib/python3.12/site-packages (from matplotlib) (1.4.8)\n",
      "Requirement already satisfied: numpy>=1.23 in /opt/conda/lib/python3.12/site-packages (from matplotlib) (2.2.4)\n",
      "Requirement already satisfied: packaging>=20.0 in /opt/conda/lib/python3.12/site-packages (from matplotlib) (24.2)\n",
      "Requirement already satisfied: pillow>=8 in /opt/conda/lib/python3.12/site-packages (from matplotlib) (11.2.1)\n",
      "Requirement already satisfied: pyparsing>=2.3.1 in /opt/conda/lib/python3.12/site-packages (from matplotlib) (3.2.3)\n",
      "Requirement already satisfied: python-dateutil>=2.7 in /opt/conda/lib/python3.12/site-packages (from matplotlib) (2.9.0.post0)\n",
      "Requirement already satisfied: six>=1.5 in /opt/conda/lib/python3.12/site-packages (from python-dateutil>=2.7->matplotlib) (1.17.0)\n",
      "Requirement already satisfied: seaborn in /opt/conda/lib/python3.12/site-packages (0.13.2)\n",
      "Requirement already satisfied: numpy!=1.24.0,>=1.20 in /opt/conda/lib/python3.12/site-packages (from seaborn) (2.2.4)\n",
      "Requirement already satisfied: pandas>=1.2 in /opt/conda/lib/python3.12/site-packages (from seaborn) (2.2.3)\n",
      "Requirement already satisfied: matplotlib!=3.6.1,>=3.4 in /opt/conda/lib/python3.12/site-packages (from seaborn) (3.10.1)\n",
      "Requirement already satisfied: contourpy>=1.0.1 in /opt/conda/lib/python3.12/site-packages (from matplotlib!=3.6.1,>=3.4->seaborn) (1.3.1)\n",
      "Requirement already satisfied: cycler>=0.10 in /opt/conda/lib/python3.12/site-packages (from matplotlib!=3.6.1,>=3.4->seaborn) (0.12.1)\n",
      "Requirement already satisfied: fonttools>=4.22.0 in /opt/conda/lib/python3.12/site-packages (from matplotlib!=3.6.1,>=3.4->seaborn) (4.57.0)\n",
      "Requirement already satisfied: kiwisolver>=1.3.1 in /opt/conda/lib/python3.12/site-packages (from matplotlib!=3.6.1,>=3.4->seaborn) (1.4.8)\n",
      "Requirement already satisfied: packaging>=20.0 in /opt/conda/lib/python3.12/site-packages (from matplotlib!=3.6.1,>=3.4->seaborn) (24.2)\n",
      "Requirement already satisfied: pillow>=8 in /opt/conda/lib/python3.12/site-packages (from matplotlib!=3.6.1,>=3.4->seaborn) (11.2.1)\n",
      "Requirement already satisfied: pyparsing>=2.3.1 in /opt/conda/lib/python3.12/site-packages (from matplotlib!=3.6.1,>=3.4->seaborn) (3.2.3)\n",
      "Requirement already satisfied: python-dateutil>=2.7 in /opt/conda/lib/python3.12/site-packages (from matplotlib!=3.6.1,>=3.4->seaborn) (2.9.0.post0)\n",
      "Requirement already satisfied: pytz>=2020.1 in /opt/conda/lib/python3.12/site-packages (from pandas>=1.2->seaborn) (2024.2)\n",
      "Requirement already satisfied: tzdata>=2022.7 in /opt/conda/lib/python3.12/site-packages (from pandas>=1.2->seaborn) (2025.2)\n",
      "Requirement already satisfied: six>=1.5 in /opt/conda/lib/python3.12/site-packages (from python-dateutil>=2.7->matplotlib!=3.6.1,>=3.4->seaborn) (1.17.0)\n"
     ]
    }
   ],
   "source": [
    "!pip install pandas\n",
    "!pip install matplotlib\n",
    "!pip install seaborn\n",
    "\n",
    "import pandas as pd\n",
    "import matplotlib.pyplot as plt\n",
    "import seaborn as sns"
   ]
  },
  {
   "cell_type": "markdown",
   "metadata": {},
   "source": [
    "<h3>Step 1: Load and Explore the Dataset</h3>\n"
   ]
  },
  {
   "cell_type": "markdown",
   "metadata": {},
   "source": [
    "Load the dataset into a DataFrame and examine the structure of the data.\n"
   ]
  },
  {
   "cell_type": "code",
   "execution_count": 3,
   "metadata": {},
   "outputs": [
    {
     "data": {
      "text/html": [
       "<div>\n",
       "<style scoped>\n",
       "    .dataframe tbody tr th:only-of-type {\n",
       "        vertical-align: middle;\n",
       "    }\n",
       "\n",
       "    .dataframe tbody tr th {\n",
       "        vertical-align: top;\n",
       "    }\n",
       "\n",
       "    .dataframe thead th {\n",
       "        text-align: right;\n",
       "    }\n",
       "</style>\n",
       "<table border=\"1\" class=\"dataframe\">\n",
       "  <thead>\n",
       "    <tr style=\"text-align: right;\">\n",
       "      <th></th>\n",
       "      <th>ResponseId</th>\n",
       "      <th>MainBranch</th>\n",
       "      <th>Age</th>\n",
       "      <th>Employment</th>\n",
       "      <th>RemoteWork</th>\n",
       "      <th>Check</th>\n",
       "      <th>CodingActivities</th>\n",
       "      <th>EdLevel</th>\n",
       "      <th>LearnCode</th>\n",
       "      <th>LearnCodeOnline</th>\n",
       "      <th>...</th>\n",
       "      <th>JobSatPoints_6</th>\n",
       "      <th>JobSatPoints_7</th>\n",
       "      <th>JobSatPoints_8</th>\n",
       "      <th>JobSatPoints_9</th>\n",
       "      <th>JobSatPoints_10</th>\n",
       "      <th>JobSatPoints_11</th>\n",
       "      <th>SurveyLength</th>\n",
       "      <th>SurveyEase</th>\n",
       "      <th>ConvertedCompYearly</th>\n",
       "      <th>JobSat</th>\n",
       "    </tr>\n",
       "  </thead>\n",
       "  <tbody>\n",
       "    <tr>\n",
       "      <th>0</th>\n",
       "      <td>1</td>\n",
       "      <td>I am a developer by profession</td>\n",
       "      <td>Under 18 years old</td>\n",
       "      <td>Employed, full-time</td>\n",
       "      <td>Remote</td>\n",
       "      <td>Apples</td>\n",
       "      <td>Hobby</td>\n",
       "      <td>Primary/elementary school</td>\n",
       "      <td>Books / Physical media</td>\n",
       "      <td>NaN</td>\n",
       "      <td>...</td>\n",
       "      <td>NaN</td>\n",
       "      <td>NaN</td>\n",
       "      <td>NaN</td>\n",
       "      <td>NaN</td>\n",
       "      <td>NaN</td>\n",
       "      <td>NaN</td>\n",
       "      <td>NaN</td>\n",
       "      <td>NaN</td>\n",
       "      <td>NaN</td>\n",
       "      <td>NaN</td>\n",
       "    </tr>\n",
       "    <tr>\n",
       "      <th>1</th>\n",
       "      <td>2</td>\n",
       "      <td>I am a developer by profession</td>\n",
       "      <td>35-44 years old</td>\n",
       "      <td>Employed, full-time</td>\n",
       "      <td>Remote</td>\n",
       "      <td>Apples</td>\n",
       "      <td>Hobby;Contribute to open-source projects;Other...</td>\n",
       "      <td>Bachelor’s degree (B.A., B.S., B.Eng., etc.)</td>\n",
       "      <td>Books / Physical media;Colleague;On the job tr...</td>\n",
       "      <td>Technical documentation;Blogs;Books;Written Tu...</td>\n",
       "      <td>...</td>\n",
       "      <td>0.0</td>\n",
       "      <td>0.0</td>\n",
       "      <td>0.0</td>\n",
       "      <td>0.0</td>\n",
       "      <td>0.0</td>\n",
       "      <td>0.0</td>\n",
       "      <td>NaN</td>\n",
       "      <td>NaN</td>\n",
       "      <td>NaN</td>\n",
       "      <td>NaN</td>\n",
       "    </tr>\n",
       "    <tr>\n",
       "      <th>2</th>\n",
       "      <td>3</td>\n",
       "      <td>I am a developer by profession</td>\n",
       "      <td>45-54 years old</td>\n",
       "      <td>Employed, full-time</td>\n",
       "      <td>Remote</td>\n",
       "      <td>Apples</td>\n",
       "      <td>Hobby;Contribute to open-source projects;Other...</td>\n",
       "      <td>Master’s degree (M.A., M.S., M.Eng., MBA, etc.)</td>\n",
       "      <td>Books / Physical media;Colleague;On the job tr...</td>\n",
       "      <td>Technical documentation;Blogs;Books;Written Tu...</td>\n",
       "      <td>...</td>\n",
       "      <td>NaN</td>\n",
       "      <td>NaN</td>\n",
       "      <td>NaN</td>\n",
       "      <td>NaN</td>\n",
       "      <td>NaN</td>\n",
       "      <td>NaN</td>\n",
       "      <td>Appropriate in length</td>\n",
       "      <td>Easy</td>\n",
       "      <td>NaN</td>\n",
       "      <td>NaN</td>\n",
       "    </tr>\n",
       "    <tr>\n",
       "      <th>3</th>\n",
       "      <td>4</td>\n",
       "      <td>I am learning to code</td>\n",
       "      <td>18-24 years old</td>\n",
       "      <td>Student, full-time</td>\n",
       "      <td>NaN</td>\n",
       "      <td>Apples</td>\n",
       "      <td>NaN</td>\n",
       "      <td>Some college/university study without earning ...</td>\n",
       "      <td>Other online resources (e.g., videos, blogs, f...</td>\n",
       "      <td>Stack Overflow;How-to videos;Interactive tutorial</td>\n",
       "      <td>...</td>\n",
       "      <td>NaN</td>\n",
       "      <td>NaN</td>\n",
       "      <td>NaN</td>\n",
       "      <td>NaN</td>\n",
       "      <td>NaN</td>\n",
       "      <td>NaN</td>\n",
       "      <td>Too long</td>\n",
       "      <td>Easy</td>\n",
       "      <td>NaN</td>\n",
       "      <td>NaN</td>\n",
       "    </tr>\n",
       "    <tr>\n",
       "      <th>4</th>\n",
       "      <td>5</td>\n",
       "      <td>I am a developer by profession</td>\n",
       "      <td>18-24 years old</td>\n",
       "      <td>Student, full-time</td>\n",
       "      <td>NaN</td>\n",
       "      <td>Apples</td>\n",
       "      <td>NaN</td>\n",
       "      <td>Secondary school (e.g. American high school, G...</td>\n",
       "      <td>Other online resources (e.g., videos, blogs, f...</td>\n",
       "      <td>Technical documentation;Blogs;Written Tutorial...</td>\n",
       "      <td>...</td>\n",
       "      <td>NaN</td>\n",
       "      <td>NaN</td>\n",
       "      <td>NaN</td>\n",
       "      <td>NaN</td>\n",
       "      <td>NaN</td>\n",
       "      <td>NaN</td>\n",
       "      <td>Too short</td>\n",
       "      <td>Easy</td>\n",
       "      <td>NaN</td>\n",
       "      <td>NaN</td>\n",
       "    </tr>\n",
       "    <tr>\n",
       "      <th>5</th>\n",
       "      <td>6</td>\n",
       "      <td>I code primarily as a hobby</td>\n",
       "      <td>Under 18 years old</td>\n",
       "      <td>Student, full-time</td>\n",
       "      <td>NaN</td>\n",
       "      <td>Apples</td>\n",
       "      <td>NaN</td>\n",
       "      <td>Primary/elementary school</td>\n",
       "      <td>School (i.e., University, College, etc);Online...</td>\n",
       "      <td>NaN</td>\n",
       "      <td>...</td>\n",
       "      <td>NaN</td>\n",
       "      <td>NaN</td>\n",
       "      <td>NaN</td>\n",
       "      <td>NaN</td>\n",
       "      <td>NaN</td>\n",
       "      <td>NaN</td>\n",
       "      <td>Appropriate in length</td>\n",
       "      <td>Easy</td>\n",
       "      <td>NaN</td>\n",
       "      <td>NaN</td>\n",
       "    </tr>\n",
       "    <tr>\n",
       "      <th>6</th>\n",
       "      <td>7</td>\n",
       "      <td>I am not primarily a developer, but I write co...</td>\n",
       "      <td>35-44 years old</td>\n",
       "      <td>Employed, full-time</td>\n",
       "      <td>Remote</td>\n",
       "      <td>Apples</td>\n",
       "      <td>I don’t code outside of work</td>\n",
       "      <td>Professional degree (JD, MD, Ph.D, Ed.D, etc.)</td>\n",
       "      <td>Other online resources (e.g., videos, blogs, f...</td>\n",
       "      <td>Technical documentation;Stack Overflow;Written...</td>\n",
       "      <td>...</td>\n",
       "      <td>NaN</td>\n",
       "      <td>NaN</td>\n",
       "      <td>NaN</td>\n",
       "      <td>NaN</td>\n",
       "      <td>NaN</td>\n",
       "      <td>NaN</td>\n",
       "      <td>Too long</td>\n",
       "      <td>Neither easy nor difficult</td>\n",
       "      <td>NaN</td>\n",
       "      <td>NaN</td>\n",
       "    </tr>\n",
       "    <tr>\n",
       "      <th>7</th>\n",
       "      <td>8</td>\n",
       "      <td>I am learning to code</td>\n",
       "      <td>18-24 years old</td>\n",
       "      <td>Student, full-time;Not employed, but looking f...</td>\n",
       "      <td>NaN</td>\n",
       "      <td>Apples</td>\n",
       "      <td>NaN</td>\n",
       "      <td>Secondary school (e.g. American high school, G...</td>\n",
       "      <td>Other online resources (e.g., videos, blogs, f...</td>\n",
       "      <td>Technical documentation;Video-based Online Cou...</td>\n",
       "      <td>...</td>\n",
       "      <td>NaN</td>\n",
       "      <td>NaN</td>\n",
       "      <td>NaN</td>\n",
       "      <td>NaN</td>\n",
       "      <td>NaN</td>\n",
       "      <td>NaN</td>\n",
       "      <td>Appropriate in length</td>\n",
       "      <td>Difficult</td>\n",
       "      <td>NaN</td>\n",
       "      <td>NaN</td>\n",
       "    </tr>\n",
       "    <tr>\n",
       "      <th>8</th>\n",
       "      <td>9</td>\n",
       "      <td>I code primarily as a hobby</td>\n",
       "      <td>45-54 years old</td>\n",
       "      <td>Employed, full-time</td>\n",
       "      <td>In-person</td>\n",
       "      <td>Apples</td>\n",
       "      <td>Hobby</td>\n",
       "      <td>Professional degree (JD, MD, Ph.D, Ed.D, etc.)</td>\n",
       "      <td>Books / Physical media;Other online resources ...</td>\n",
       "      <td>Stack Overflow;Written-based Online Courses</td>\n",
       "      <td>...</td>\n",
       "      <td>NaN</td>\n",
       "      <td>NaN</td>\n",
       "      <td>NaN</td>\n",
       "      <td>NaN</td>\n",
       "      <td>NaN</td>\n",
       "      <td>NaN</td>\n",
       "      <td>Appropriate in length</td>\n",
       "      <td>Neither easy nor difficult</td>\n",
       "      <td>NaN</td>\n",
       "      <td>NaN</td>\n",
       "    </tr>\n",
       "    <tr>\n",
       "      <th>9</th>\n",
       "      <td>10</td>\n",
       "      <td>I am a developer by profession</td>\n",
       "      <td>35-44 years old</td>\n",
       "      <td>Independent contractor, freelancer, or self-em...</td>\n",
       "      <td>Remote</td>\n",
       "      <td>Apples</td>\n",
       "      <td>Bootstrapping a business</td>\n",
       "      <td>Master’s degree (M.A., M.S., M.Eng., MBA, etc.)</td>\n",
       "      <td>On the job training;Other online resources (e....</td>\n",
       "      <td>Technical documentation;Blogs;Written Tutorial...</td>\n",
       "      <td>...</td>\n",
       "      <td>NaN</td>\n",
       "      <td>NaN</td>\n",
       "      <td>NaN</td>\n",
       "      <td>NaN</td>\n",
       "      <td>NaN</td>\n",
       "      <td>NaN</td>\n",
       "      <td>Too long</td>\n",
       "      <td>Easy</td>\n",
       "      <td>NaN</td>\n",
       "      <td>NaN</td>\n",
       "    </tr>\n",
       "  </tbody>\n",
       "</table>\n",
       "<p>10 rows × 114 columns</p>\n",
       "</div>"
      ],
      "text/plain": [
       "   ResponseId                                         MainBranch  \\\n",
       "0           1                     I am a developer by profession   \n",
       "1           2                     I am a developer by profession   \n",
       "2           3                     I am a developer by profession   \n",
       "3           4                              I am learning to code   \n",
       "4           5                     I am a developer by profession   \n",
       "5           6                        I code primarily as a hobby   \n",
       "6           7  I am not primarily a developer, but I write co...   \n",
       "7           8                              I am learning to code   \n",
       "8           9                        I code primarily as a hobby   \n",
       "9          10                     I am a developer by profession   \n",
       "\n",
       "                  Age                                         Employment  \\\n",
       "0  Under 18 years old                                Employed, full-time   \n",
       "1     35-44 years old                                Employed, full-time   \n",
       "2     45-54 years old                                Employed, full-time   \n",
       "3     18-24 years old                                 Student, full-time   \n",
       "4     18-24 years old                                 Student, full-time   \n",
       "5  Under 18 years old                                 Student, full-time   \n",
       "6     35-44 years old                                Employed, full-time   \n",
       "7     18-24 years old  Student, full-time;Not employed, but looking f...   \n",
       "8     45-54 years old                                Employed, full-time   \n",
       "9     35-44 years old  Independent contractor, freelancer, or self-em...   \n",
       "\n",
       "  RemoteWork   Check                                   CodingActivities  \\\n",
       "0     Remote  Apples                                              Hobby   \n",
       "1     Remote  Apples  Hobby;Contribute to open-source projects;Other...   \n",
       "2     Remote  Apples  Hobby;Contribute to open-source projects;Other...   \n",
       "3        NaN  Apples                                                NaN   \n",
       "4        NaN  Apples                                                NaN   \n",
       "5        NaN  Apples                                                NaN   \n",
       "6     Remote  Apples                       I don’t code outside of work   \n",
       "7        NaN  Apples                                                NaN   \n",
       "8  In-person  Apples                                              Hobby   \n",
       "9     Remote  Apples                           Bootstrapping a business   \n",
       "\n",
       "                                             EdLevel  \\\n",
       "0                          Primary/elementary school   \n",
       "1       Bachelor’s degree (B.A., B.S., B.Eng., etc.)   \n",
       "2    Master’s degree (M.A., M.S., M.Eng., MBA, etc.)   \n",
       "3  Some college/university study without earning ...   \n",
       "4  Secondary school (e.g. American high school, G...   \n",
       "5                          Primary/elementary school   \n",
       "6     Professional degree (JD, MD, Ph.D, Ed.D, etc.)   \n",
       "7  Secondary school (e.g. American high school, G...   \n",
       "8     Professional degree (JD, MD, Ph.D, Ed.D, etc.)   \n",
       "9    Master’s degree (M.A., M.S., M.Eng., MBA, etc.)   \n",
       "\n",
       "                                           LearnCode  \\\n",
       "0                             Books / Physical media   \n",
       "1  Books / Physical media;Colleague;On the job tr...   \n",
       "2  Books / Physical media;Colleague;On the job tr...   \n",
       "3  Other online resources (e.g., videos, blogs, f...   \n",
       "4  Other online resources (e.g., videos, blogs, f...   \n",
       "5  School (i.e., University, College, etc);Online...   \n",
       "6  Other online resources (e.g., videos, blogs, f...   \n",
       "7  Other online resources (e.g., videos, blogs, f...   \n",
       "8  Books / Physical media;Other online resources ...   \n",
       "9  On the job training;Other online resources (e....   \n",
       "\n",
       "                                     LearnCodeOnline  ... JobSatPoints_6  \\\n",
       "0                                                NaN  ...            NaN   \n",
       "1  Technical documentation;Blogs;Books;Written Tu...  ...            0.0   \n",
       "2  Technical documentation;Blogs;Books;Written Tu...  ...            NaN   \n",
       "3  Stack Overflow;How-to videos;Interactive tutorial  ...            NaN   \n",
       "4  Technical documentation;Blogs;Written Tutorial...  ...            NaN   \n",
       "5                                                NaN  ...            NaN   \n",
       "6  Technical documentation;Stack Overflow;Written...  ...            NaN   \n",
       "7  Technical documentation;Video-based Online Cou...  ...            NaN   \n",
       "8        Stack Overflow;Written-based Online Courses  ...            NaN   \n",
       "9  Technical documentation;Blogs;Written Tutorial...  ...            NaN   \n",
       "\n",
       "  JobSatPoints_7 JobSatPoints_8 JobSatPoints_9 JobSatPoints_10  \\\n",
       "0            NaN            NaN            NaN             NaN   \n",
       "1            0.0            0.0            0.0             0.0   \n",
       "2            NaN            NaN            NaN             NaN   \n",
       "3            NaN            NaN            NaN             NaN   \n",
       "4            NaN            NaN            NaN             NaN   \n",
       "5            NaN            NaN            NaN             NaN   \n",
       "6            NaN            NaN            NaN             NaN   \n",
       "7            NaN            NaN            NaN             NaN   \n",
       "8            NaN            NaN            NaN             NaN   \n",
       "9            NaN            NaN            NaN             NaN   \n",
       "\n",
       "  JobSatPoints_11           SurveyLength                  SurveyEase  \\\n",
       "0             NaN                    NaN                         NaN   \n",
       "1             0.0                    NaN                         NaN   \n",
       "2             NaN  Appropriate in length                        Easy   \n",
       "3             NaN               Too long                        Easy   \n",
       "4             NaN              Too short                        Easy   \n",
       "5             NaN  Appropriate in length                        Easy   \n",
       "6             NaN               Too long  Neither easy nor difficult   \n",
       "7             NaN  Appropriate in length                   Difficult   \n",
       "8             NaN  Appropriate in length  Neither easy nor difficult   \n",
       "9             NaN               Too long                        Easy   \n",
       "\n",
       "  ConvertedCompYearly JobSat  \n",
       "0                 NaN    NaN  \n",
       "1                 NaN    NaN  \n",
       "2                 NaN    NaN  \n",
       "3                 NaN    NaN  \n",
       "4                 NaN    NaN  \n",
       "5                 NaN    NaN  \n",
       "6                 NaN    NaN  \n",
       "7                 NaN    NaN  \n",
       "8                 NaN    NaN  \n",
       "9                 NaN    NaN  \n",
       "\n",
       "[10 rows x 114 columns]"
      ]
     },
     "execution_count": 3,
     "metadata": {},
     "output_type": "execute_result"
    }
   ],
   "source": [
    "file_url = \"https://cf-courses-data.s3.us.cloud-object-storage.appdomain.cloud/n01PQ9pSmiRX6520flujwQ/survey-data.csv\"\n",
    "\n",
    "#Create the dataframe\n",
    "df = pd.read_csv(file_url)\n",
    "\n",
    "#Display the top 10 records\n",
    "df.head(10)\n"
   ]
  },
  {
   "cell_type": "markdown",
   "metadata": {},
   "source": [
    "<h3>Step 2: Plot the Distribution of Industry</h3>\n"
   ]
  },
  {
   "cell_type": "markdown",
   "metadata": {},
   "source": [
    "Explore how respondents are distributed across different industries.\n",
    "\n",
    "- Plot a bar chart to visualize the distribution of respondents by industry.\n",
    "\n",
    "- Highlight any notable trends.\n"
   ]
  },
  {
   "cell_type": "code",
   "execution_count": 4,
   "metadata": {},
   "outputs": [
    {
     "name": "stderr",
     "output_type": "stream",
     "text": [
      "/tmp/ipykernel_2511/3174885355.py:4: FutureWarning: \n",
      "\n",
      "Passing `palette` without assigning `hue` is deprecated and will be removed in v0.14.0. Assign the `y` variable to `hue` and set `legend=False` for the same effect.\n",
      "\n",
      "  sns.barplot(x=industry_counts.values, y=industry_counts.index, palette='viridis')\n"
     ]
    },
    {
     "data": {
      "image/png": "[encoded data removed]",
      "text/plain": [
       "<Figure size 1200x600 with 1 Axes>"
      ]
     },
     "metadata": {},
     "output_type": "display_data"
    }
   ],
   "source": [
    "##Write your code here\n",
    "plt.figure(figsize=(12, 6))\n",
    "industry_counts = df['Industry'].value_counts().head(10)\n",
    "sns.barplot(x=industry_counts.values, y=industry_counts.index, palette='viridis')\n",
    "plt.title('Top 10 Industries of Respondents')\n",
    "plt.xlabel('Count')\n",
    "plt.ylabel('Industry')\n",
    "plt.show()\n"
   ]
  },
  {
   "cell_type": "markdown",
   "metadata": {},
   "source": [
    "<h3>Step 3: Identify High Compensation Outliers</h3>\n"
   ]
  },
  {
   "cell_type": "markdown",
   "metadata": {},
   "source": [
    "Identify respondents with extremely high yearly compensation.\n",
    "\n",
    "- Calculate basic statistics (mean, median, and standard deviation) for `ConvertedCompYearly`.\n",
    "\n",
    "- Identify compensation values exceeding a defined threshold (e.g., 3 standard deviations above the mean).\n"
   ]
  },
  {
   "cell_type": "code",
   "execution_count": 5,
   "metadata": {},
   "outputs": [
    {
     "name": "stdout",
     "output_type": "stream",
     "text": [
      "Mean: 86155.29, Median: 65000.00, Std Dev: 186756.97\n",
      "Number of high compensation outliers: 89\n"
     ]
    },
    {
     "data": {
      "text/html": [
       "<div>\n",
       "<style scoped>\n",
       "    .dataframe tbody tr th:only-of-type {\n",
       "        vertical-align: middle;\n",
       "    }\n",
       "\n",
       "    .dataframe tbody tr th {\n",
       "        vertical-align: top;\n",
       "    }\n",
       "\n",
       "    .dataframe thead th {\n",
       "        text-align: right;\n",
       "    }\n",
       "</style>\n",
       "<table border=\"1\" class=\"dataframe\">\n",
       "  <thead>\n",
       "    <tr style=\"text-align: right;\">\n",
       "      <th></th>\n",
       "      <th>ConvertedCompYearly</th>\n",
       "    </tr>\n",
       "  </thead>\n",
       "  <tbody>\n",
       "    <tr>\n",
       "      <th>529</th>\n",
       "      <td>650000.0</td>\n",
       "    </tr>\n",
       "    <tr>\n",
       "      <th>828</th>\n",
       "      <td>1000000.0</td>\n",
       "    </tr>\n",
       "    <tr>\n",
       "      <th>1932</th>\n",
       "      <td>945000.0</td>\n",
       "    </tr>\n",
       "    <tr>\n",
       "      <th>2171</th>\n",
       "      <td>750000.0</td>\n",
       "    </tr>\n",
       "    <tr>\n",
       "      <th>2187</th>\n",
       "      <td>2000000.0</td>\n",
       "    </tr>\n",
       "  </tbody>\n",
       "</table>\n",
       "</div>"
      ],
      "text/plain": [
       "      ConvertedCompYearly\n",
       "529              650000.0\n",
       "828             1000000.0\n",
       "1932             945000.0\n",
       "2171             750000.0\n",
       "2187            2000000.0"
      ]
     },
     "execution_count": 5,
     "metadata": {},
     "output_type": "execute_result"
    }
   ],
   "source": [
    "##Write your code here\n",
    "# Basic statistics\n",
    "comp = pd.to_numeric(df['ConvertedCompYearly'], errors='coerce')\n",
    "mean = comp.mean()\n",
    "median = comp.median()\n",
    "std = comp.std()\n",
    "\n",
    "print(f\"Mean: {mean:.2f}, Median: {median:.2f}, Std Dev: {std:.2f}\")\n",
    "\n",
    "# Threshold for outlier: mean + 3*std\n",
    "threshold = mean + 3 * std\n",
    "outliers = df[comp > threshold]\n",
    "\n",
    "print(f\"Number of high compensation outliers: {len(outliers)}\")\n",
    "outliers[['ConvertedCompYearly']].head()\n"
   ]
  },
  {
   "cell_type": "markdown",
   "metadata": {},
   "source": [
    "<h3>Step 4: Detect Outliers in Compensation</h3>\n"
   ]
  },
  {
   "cell_type": "markdown",
   "metadata": {},
   "source": [
    "Identify outliers in the `ConvertedCompYearly` column using the IQR method.\n",
    "\n",
    "- Calculate the Interquartile Range (IQR).\n",
    "\n",
    "- Determine the upper and lower bounds for outliers.\n",
    "\n",
    "- Count and visualize outliers using a box plot.\n"
   ]
  },
  {
   "cell_type": "code",
   "execution_count": 6,
   "metadata": {},
   "outputs": [
    {
     "name": "stdout",
     "output_type": "stream",
     "text": [
      "IQR: 75259.50\n",
      "Lower Bound: -80177.25\n",
      "Upper Bound: 220860.75\n",
      "Number of IQR outliers: 978\n"
     ]
    },
    {
     "data": {
      "image/png": "[encoded data removed]",
      "text/plain": [
       "<Figure size 1000x400 with 1 Axes>"
      ]
     },
     "metadata": {},
     "output_type": "display_data"
    }
   ],
   "source": [
    "##Write your code here\n",
    "# Remove NaNs for IQR calculation\n",
    "comp_clean = comp.dropna()\n",
    "\n",
    "# IQR method\n",
    "Q1 = comp_clean.quantile(0.25)\n",
    "Q3 = comp_clean.quantile(0.75)\n",
    "IQR = Q3 - Q1\n",
    "lower_bound = Q1 - 1.5 * IQR\n",
    "upper_bound = Q3 + 1.5 * IQR\n",
    "\n",
    "print(f\"IQR: {IQR:.2f}\")\n",
    "print(f\"Lower Bound: {lower_bound:.2f}\")\n",
    "print(f\"Upper Bound: {upper_bound:.2f}\")\n",
    "\n",
    "# Count and visualize outliers\n",
    "outliers_iqr = comp_clean[(comp_clean < lower_bound) | (comp_clean > upper_bound)]\n",
    "\n",
    "print(f\"Number of IQR outliers: {len(outliers_iqr)}\")\n",
    "\n",
    "# Boxplot\n",
    "plt.figure(figsize=(10, 4))\n",
    "sns.boxplot(x=comp_clean)\n",
    "plt.title('Boxplot of Yearly Compensation')\n",
    "plt.xlabel('ConvertedCompYearly')\n",
    "plt.show()\n"
   ]
  },
  {
   "cell_type": "markdown",
   "metadata": {},
   "source": [
    "<h3>Step 5: Remove Outliers and Create a New DataFrame</h3>\n"
   ]
  },
  {
   "cell_type": "markdown",
   "metadata": {},
   "source": [
    "Remove outliers from the dataset.\n",
    "\n",
    "- Create a new DataFrame excluding rows with outliers in `ConvertedCompYearly`.\n",
    "- Validate the size of the new DataFrame.\n"
   ]
  },
  {
   "cell_type": "code",
   "execution_count": 7,
   "metadata": {},
   "outputs": [
    {
     "name": "stdout",
     "output_type": "stream",
     "text": [
      "Original size: (65437, 114)\n",
      "New size after outlier removal: (22457, 114)\n"
     ]
    }
   ],
   "source": [
    "##Write your code here\n",
    "# Keep only values within bounds\n",
    "df_no_outliers = df[(comp >= lower_bound) & (comp <= upper_bound)]\n",
    "\n",
    "print(f\"Original size: {df.shape}\")\n",
    "print(f\"New size after outlier removal: {df_no_outliers.shape}\")\n"
   ]
  },
  {
   "cell_type": "markdown",
   "metadata": {},
   "source": [
    "<h3>Step 6: Correlation Analysis</h3>\n"
   ]
  },
  {
   "cell_type": "markdown",
   "metadata": {},
   "source": [
    "Analyze the correlation between `Age` (transformed) and other numerical columns.\n",
    "\n",
    "- Map the `Age` column to approximate numeric values.\n",
    "\n",
    "- Compute correlations between `Age` and other numeric variables.\n",
    "\n",
    "- Visualize the correlation matrix.\n"
   ]
  },
  {
   "cell_type": "code",
   "execution_count": 8,
   "metadata": {},
   "outputs": [
    {
     "name": "stderr",
     "output_type": "stream",
     "text": [
      "/tmp/ipykernel_2511/2934695018.py:12: SettingWithCopyWarning: \n",
      "A value is trying to be set on a copy of a slice from a DataFrame.\n",
      "Try using .loc[row_indexer,col_indexer] = value instead\n",
      "\n",
      "See the caveats in the documentation: https://pandas.pydata.org/pandas-docs/stable/user_guide/indexing.html#returning-a-view-versus-a-copy\n",
      "  df_no_outliers['AgeNumeric'] = df_no_outliers['Age'].map(age_map)\n"
     ]
    },
    {
     "data": {
      "image/png": "[encoded data removed]",
      "text/plain": [
       "<Figure size 800x600 with 2 Axes>"
      ]
     },
     "metadata": {},
     "output_type": "display_data"
    }
   ],
   "source": [
    "##Write your code here\n",
    "# Map Age ranges to numeric\n",
    "age_map = {\n",
    "    'Under 18 years old': 15,\n",
    "    '18-24 years old': 21,\n",
    "    '25-34 years old': 29,\n",
    "    '35-44 years old': 39,\n",
    "    '45-54 years old': 49,\n",
    "    '55-64 years old': 59,\n",
    "    '65 years or older': 70\n",
    "}\n",
    "df_no_outliers['AgeNumeric'] = df_no_outliers['Age'].map(age_map)\n",
    "\n",
    "# Select numerical columns\n",
    "numeric_cols = df_no_outliers[['AgeNumeric', 'YearsCodePro', 'ConvertedCompYearly']].copy()\n",
    "numeric_cols['YearsCodePro'] = pd.to_numeric(df_no_outliers['YearsCodePro'], errors='coerce')\n",
    "numeric_cols['ConvertedCompYearly'] = pd.to_numeric(df_no_outliers['ConvertedCompYearly'], errors='coerce')\n",
    "\n",
    "# Drop rows with missing values\n",
    "corr_data = numeric_cols.dropna()\n",
    "\n",
    "# Correlation matrix\n",
    "corr_matrix = corr_data.corr()\n",
    "\n",
    "# Heatmap\n",
    "plt.figure(figsize=(8, 6))\n",
    "sns.heatmap(corr_matrix, annot=True, cmap='coolwarm', fmt=\".2f\")\n",
    "plt.title('Correlation Matrix: Age, Experience, and Compensation')\n",
    "plt.show()\n"
   ]
  },
  {
   "cell_type": "markdown",
   "metadata": {},
   "source": [
    "<h3> Summary </h3>\n"
   ]
  },
  {
   "cell_type": "markdown",
   "metadata": {},
   "source": [
    "In this lab, you developed essential skills in **Exploratory Data Analysis (EDA)** with a focus on outlier detection and removal. Specifically, you:\n"
   ]
  },
  {
   "cell_type": "markdown",
   "metadata": {},
   "source": [
    "- Loaded and explored the dataset to understand its structure.\n",
    "\n",
    "- Analyzed the distribution of respondents across industries.\n",
    "\n",
    "- Identified and removed high compensation outliers using statistical thresholds and the Interquartile Range (IQR) method.\n",
    "\n",
    "- Performed correlation analysis, including transforming the `Age` column into numeric values for better analysis.\n"
   ]
  },
  {
   "cell_type": "markdown",
   "metadata": {},
   "source": [
    "<!--\n",
    "## Change Log\n",
    "|Date (YYYY-MM-DD)|Version|Changed By|Change Description|\n",
    "|-|-|-|-|               \n",
    "|2024-10-1|1.1|Madhusudan Moole|Reviewed and updated lab|                                                                                    \n",
    "|2024-09-29|1.0|Raghul Ramesh|Created lab|\n",
    "--!>\n"
   ]
  },
  {
   "cell_type": "markdown",
   "metadata": {},
   "source": [
    "Copyright © IBM Corporation. All rights reserved.\n"
   ]
  }
 ],
 "metadata": {
  "kernelspec": {
   "display_name": "Python 3 (ipykernel)",
   "language": "python",
   "name": "python3"
  },
  "language_info": {
   "codemirror_mode": {
    "name": "ipython",
    "version": 3
   },
   "file_extension": ".py",
   "mimetype": "text/x-python",
   "name": "python",
   "nbconvert_exporter": "python",
   "pygments_lexer": "ipython3",
   "version": "3.12.8"
  },
  "prev_pub_hash": "bfb6b5324ee15056f94c357f33a9f92b9c3ff0f4ad4b517e8e51e820f5595113"
 },
 "nbformat": 4,
 "nbformat_minor": 4
}
