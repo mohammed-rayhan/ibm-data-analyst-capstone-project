{
 "cells": [
  {
   "cell_type": "markdown",
   "metadata": {},
   "source": [
    "<p style=\"text-align:center\">\n",
    "    <a href=\"https://skills.network\" target=\"_blank\">\n",
    "    <img src=\"https://cf-courses-data.s3.us.cloud-object-storage.appdomain.cloud/assets/logos/SN_web_lightmode.png\" width=\"200\" alt=\"Skills Network Logo\"  />\n",
    "    </a>\n",
    "</p>\n"
   ]
  },
  {
   "cell_type": "markdown",
   "metadata": {},
   "source": [
    "# **Finding Duplicates Lab**\n"
   ]
  },
  {
   "cell_type": "markdown",
   "metadata": {},
   "source": [
    "Estimated time needed: **30** minutes\n"
   ]
  },
  {
   "cell_type": "markdown",
   "metadata": {},
   "source": [
    "## Introduction\n"
   ]
  },
  {
   "cell_type": "markdown",
   "metadata": {},
   "source": [
    "Data wrangling is a critical step in preparing datasets for analysis, and handling duplicates plays a key role in ensuring data accuracy. In this lab, you will focus on identifying and removing duplicate entries from your dataset. \n"
   ]
  },
  {
   "cell_type": "markdown",
   "metadata": {},
   "source": [
    "## Objectives\n"
   ]
  },
  {
   "cell_type": "markdown",
   "metadata": {},
   "source": [
    "In this lab, you will perform the following:\n"
   ]
  },
  {
   "cell_type": "markdown",
   "metadata": {},
   "source": [
    "1. Identify duplicate rows in the dataset and analyze their characteristics.\n",
    "2. Visualize the distribution of duplicates based on key attributes.\n",
    "3. Remove duplicate values strategically based on specific criteria.\n",
    "4. Outline the process of verifying and documenting duplicate removal.\n"
   ]
  },
  {
   "cell_type": "markdown",
   "metadata": {},
   "source": [
    "## Hands on Lab\n"
   ]
  },
  {
   "cell_type": "markdown",
   "metadata": {},
   "source": [
    "Install the needed library\n"
   ]
  },
  {
   "cell_type": "code",
   "execution_count": 1,
   "metadata": {
    "scrolled": true
   },
   "outputs": [
    {
     "name": "stdout",
     "output_type": "stream",
     "text": [
      "Collecting pandas\n",
      "  Downloading pandas-2.2.3-cp312-cp312-manylinux_2_17_x86_64.manylinux2014_x86_64.whl.metadata (89 kB)\n",
      "Collecting numpy>=1.26.0 (from pandas)\n",
      "  Downloading numpy-2.2.4-cp312-cp312-manylinux_2_17_x86_64.manylinux2014_x86_64.whl.metadata (62 kB)\n",
      "Requirement already satisfied: python-dateutil>=2.8.2 in /opt/conda/lib/python3.12/site-packages (from pandas) (2.9.0.post0)\n",
      "Requirement already satisfied: pytz>=2020.1 in /opt/conda/lib/python3.12/site-packages (from pandas) (2024.2)\n",
      "Collecting tzdata>=2022.7 (from pandas)\n",
      "  Downloading tzdata-2025.2-py2.py3-none-any.whl.metadata (1.4 kB)\n",
      "Requirement already satisfied: six>=1.5 in /opt/conda/lib/python3.12/site-packages (from python-dateutil>=2.8.2->pandas) (1.17.0)\n",
      "Downloading pandas-2.2.3-cp312-cp312-manylinux_2_17_x86_64.manylinux2014_x86_64.whl (12.7 MB)\n",
      "\u001b[2K   \u001b[90m━━━━━━━━━━━━━━━━━━━━━━━━━━━━━━━━━━━━━━━━\u001b[0m \u001b[32m12.7/12.7 MB\u001b[0m \u001b[31m120.4 MB/s\u001b[0m eta \u001b[36m0:00:00\u001b[0m\n",
      "\u001b[?25hDownloading numpy-2.2.4-cp312-cp312-manylinux_2_17_x86_64.manylinux2014_x86_64.whl (16.1 MB)\n",
      "\u001b[2K   \u001b[90m━━━━━━━━━━━━━━━━━━━━━━━━━━━━━━━━━━━━━━━━\u001b[0m \u001b[32m16.1/16.1 MB\u001b[0m \u001b[31m143.9 MB/s\u001b[0m eta \u001b[36m0:00:00\u001b[0m\n",
      "\u001b[?25hDownloading tzdata-2025.2-py2.py3-none-any.whl (347 kB)\n",
      "Installing collected packages: tzdata, numpy, pandas\n",
      "Successfully installed numpy-2.2.4 pandas-2.2.3 tzdata-2025.2\n",
      "Collecting matplotlib\n",
      "  Downloading matplotlib-3.10.1-cp312-cp312-manylinux_2_17_x86_64.manylinux2014_x86_64.whl.metadata (11 kB)\n",
      "Collecting contourpy>=1.0.1 (from matplotlib)\n",
      "  Downloading contourpy-1.3.1-cp312-cp312-manylinux_2_17_x86_64.manylinux2014_x86_64.whl.metadata (5.4 kB)\n",
      "Collecting cycler>=0.10 (from matplotlib)\n",
      "  Downloading cycler-0.12.1-py3-none-any.whl.metadata (3.8 kB)\n",
      "Collecting fonttools>=4.22.0 (from matplotlib)\n",
      "  Downloading fonttools-4.57.0-cp312-cp312-manylinux_2_5_x86_64.manylinux1_x86_64.manylinux_2_17_x86_64.manylinux2014_x86_64.whl.metadata (102 kB)\n",
      "Collecting kiwisolver>=1.3.1 (from matplotlib)\n",
      "  Downloading kiwisolver-1.4.8-cp312-cp312-manylinux_2_17_x86_64.manylinux2014_x86_64.whl.metadata (6.2 kB)\n",
      "Requirement already satisfied: numpy>=1.23 in /opt/conda/lib/python3.12/site-packages (from matplotlib) (2.2.4)\n",
      "Requirement already satisfied: packaging>=20.0 in /opt/conda/lib/python3.12/site-packages (from matplotlib) (24.2)\n",
      "Collecting pillow>=8 (from matplotlib)\n",
      "  Downloading pillow-11.2.1-cp312-cp312-manylinux_2_28_x86_64.whl.metadata (8.9 kB)\n",
      "Collecting pyparsing>=2.3.1 (from matplotlib)\n",
      "  Downloading pyparsing-3.2.3-py3-none-any.whl.metadata (5.0 kB)\n",
      "Requirement already satisfied: python-dateutil>=2.7 in /opt/conda/lib/python3.12/site-packages (from matplotlib) (2.9.0.post0)\n",
      "Requirement already satisfied: six>=1.5 in /opt/conda/lib/python3.12/site-packages (from python-dateutil>=2.7->matplotlib) (1.17.0)\n",
      "Downloading matplotlib-3.10.1-cp312-cp312-manylinux_2_17_x86_64.manylinux2014_x86_64.whl (8.6 MB)\n",
      "\u001b[2K   \u001b[90m━━━━━━━━━━━━━━━━━━━━━━━━━━━━━━━━━━━━━━━━\u001b[0m \u001b[32m8.6/8.6 MB\u001b[0m \u001b[31m113.3 MB/s\u001b[0m eta \u001b[36m0:00:00\u001b[0m\n",
      "\u001b[?25hDownloading contourpy-1.3.1-cp312-cp312-manylinux_2_17_x86_64.manylinux2014_x86_64.whl (323 kB)\n",
      "Downloading cycler-0.12.1-py3-none-any.whl (8.3 kB)\n",
      "Downloading fonttools-4.57.0-cp312-cp312-manylinux_2_5_x86_64.manylinux1_x86_64.manylinux_2_17_x86_64.manylinux2014_x86_64.whl (4.9 MB)\n",
      "\u001b[2K   \u001b[90m━━━━━━━━━━━━━━━━━━━━━━━━━━━━━━━━━━━━━━━━\u001b[0m \u001b[32m4.9/4.9 MB\u001b[0m \u001b[31m96.0 MB/s\u001b[0m eta \u001b[36m0:00:00\u001b[0m\n",
      "\u001b[?25hDownloading kiwisolver-1.4.8-cp312-cp312-manylinux_2_17_x86_64.manylinux2014_x86_64.whl (1.5 MB)\n",
      "\u001b[2K   \u001b[90m━━━━━━━━━━━━━━━━━━━━━━━━━━━━━━━━━━━━━━━━\u001b[0m \u001b[32m1.5/1.5 MB\u001b[0m \u001b[31m71.7 MB/s\u001b[0m eta \u001b[36m0:00:00\u001b[0m\n",
      "Downloading pillow-11.2.1-cp312-cp312-manylinux_2_28_x86_64.whl (4.6 MB)\n",
      "\u001b[2K   \u001b[90m━━━━━━━━━━━━━━━━━━━━━━━━━━━━━━━━━━━━━━━━\u001b[0m \u001b[32m4.6/4.6 MB\u001b[0m \u001b[31m117.4 MB/s\u001b[0m eta \u001b[36m0:00:00\u001b[0m\n",
      "Downloading pyparsing-3.2.3-py3-none-any.whl (111 kB)\n",
      "Installing collected packages: pyparsing, pillow, kiwisolver, fonttools, cycler, contourpy, matplotlib\n",
      "Successfully installed contourpy-1.3.1 cycler-0.12.1 fonttools-4.57.0 kiwisolver-1.4.8 matplotlib-3.10.1 pillow-11.2.1 pyparsing-3.2.3\n"
     ]
    }
   ],
   "source": [
    "!pip install pandas\n",
    "!pip install matplotlib"
   ]
  },
  {
   "cell_type": "markdown",
   "metadata": {},
   "source": [
    "Import pandas module\n"
   ]
  },
  {
   "cell_type": "code",
   "execution_count": 2,
   "metadata": {},
   "outputs": [],
   "source": [
    "import pandas as pd\n"
   ]
  },
  {
   "cell_type": "markdown",
   "metadata": {},
   "source": [
    "Import matplotlib\n"
   ]
  },
  {
   "cell_type": "code",
   "execution_count": 3,
   "metadata": {},
   "outputs": [],
   "source": [
    "import matplotlib.pyplot as plt\n"
   ]
  },
  {
   "cell_type": "markdown",
   "metadata": {},
   "source": [
    "## **Load the dataset into a dataframe**\n"
   ]
  },
  {
   "cell_type": "markdown",
   "metadata": {},
   "source": [
    "<h2>Read Data</h2>\n",
    "<p>\n",
    "We utilize the <code>pandas.read_csv()</code> function for reading CSV files. However, in this version of the lab, which operates on JupyterLite, the dataset needs to be downloaded to the interface using the provided code below.\n",
    "</p>\n"
   ]
  },
  {
   "cell_type": "code",
   "execution_count": 4,
   "metadata": {},
   "outputs": [
    {
     "name": "stdout",
     "output_type": "stream",
     "text": [
      "   ResponseId                      MainBranch                 Age  \\\n",
      "0           1  I am a developer by profession  Under 18 years old   \n",
      "1           2  I am a developer by profession     35-44 years old   \n",
      "2           3  I am a developer by profession     45-54 years old   \n",
      "3           4           I am learning to code     18-24 years old   \n",
      "4           5  I am a developer by profession     18-24 years old   \n",
      "\n",
      "            Employment RemoteWork   Check  \\\n",
      "0  Employed, full-time     Remote  Apples   \n",
      "1  Employed, full-time     Remote  Apples   \n",
      "2  Employed, full-time     Remote  Apples   \n",
      "3   Student, full-time        NaN  Apples   \n",
      "4   Student, full-time        NaN  Apples   \n",
      "\n",
      "                                    CodingActivities  \\\n",
      "0                                              Hobby   \n",
      "1  Hobby;Contribute to open-source projects;Other...   \n",
      "2  Hobby;Contribute to open-source projects;Other...   \n",
      "3                                                NaN   \n",
      "4                                                NaN   \n",
      "\n",
      "                                             EdLevel  \\\n",
      "0                          Primary/elementary school   \n",
      "1       Bachelor’s degree (B.A., B.S., B.Eng., etc.)   \n",
      "2    Master’s degree (M.A., M.S., M.Eng., MBA, etc.)   \n",
      "3  Some college/university study without earning ...   \n",
      "4  Secondary school (e.g. American high school, G...   \n",
      "\n",
      "                                           LearnCode  \\\n",
      "0                             Books / Physical media   \n",
      "1  Books / Physical media;Colleague;On the job tr...   \n",
      "2  Books / Physical media;Colleague;On the job tr...   \n",
      "3  Other online resources (e.g., videos, blogs, f...   \n",
      "4  Other online resources (e.g., videos, blogs, f...   \n",
      "\n",
      "                                     LearnCodeOnline  ... JobSatPoints_6  \\\n",
      "0                                                NaN  ...            NaN   \n",
      "1  Technical documentation;Blogs;Books;Written Tu...  ...            0.0   \n",
      "2  Technical documentation;Blogs;Books;Written Tu...  ...            NaN   \n",
      "3  Stack Overflow;How-to videos;Interactive tutorial  ...            NaN   \n",
      "4  Technical documentation;Blogs;Written Tutorial...  ...            NaN   \n",
      "\n",
      "  JobSatPoints_7 JobSatPoints_8 JobSatPoints_9 JobSatPoints_10  \\\n",
      "0            NaN            NaN            NaN             NaN   \n",
      "1            0.0            0.0            0.0             0.0   \n",
      "2            NaN            NaN            NaN             NaN   \n",
      "3            NaN            NaN            NaN             NaN   \n",
      "4            NaN            NaN            NaN             NaN   \n",
      "\n",
      "  JobSatPoints_11           SurveyLength SurveyEase ConvertedCompYearly JobSat  \n",
      "0             NaN                    NaN        NaN                 NaN    NaN  \n",
      "1             0.0                    NaN        NaN                 NaN    NaN  \n",
      "2             NaN  Appropriate in length       Easy                 NaN    NaN  \n",
      "3             NaN               Too long       Easy                 NaN    NaN  \n",
      "4             NaN              Too short       Easy                 NaN    NaN  \n",
      "\n",
      "[5 rows x 114 columns]\n"
     ]
    }
   ],
   "source": [
    "# Load the dataset directly from the URL\n",
    "file_path = \"https://cf-courses-data.s3.us.cloud-object-storage.appdomain.cloud/VYPrOu0Vs3I0hKLLjiPGrA/survey-data-with-duplicate.csv\"\n",
    "df = pd.read_csv(file_path)\n",
    "\n",
    "# Display the first few rows\n",
    "print(df.head())"
   ]
  },
  {
   "cell_type": "markdown",
   "metadata": {},
   "source": [
    "Load the data into a pandas dataframe:\n",
    "\n"
   ]
  },
  {
   "cell_type": "markdown",
   "metadata": {},
   "source": [
    "Note: If you are working on a local Jupyter environment, you can use the URL directly in the pandas.read_csv() function as shown below:\n",
    "\n"
   ]
  },
  {
   "cell_type": "code",
   "execution_count": null,
   "metadata": {},
   "outputs": [],
   "source": [
    "# df = pd.read_csv(\"https://cf-courses-data.s3.us.cloud-object-storage.appdomain.cloud/n01PQ9pSmiRX6520flujwQ/survey-data.csv\")\n"
   ]
  },
  {
   "cell_type": "markdown",
   "metadata": {},
   "source": [
    "## Identify and Analyze Duplicates\n"
   ]
  },
  {
   "cell_type": "markdown",
   "metadata": {},
   "source": [
    "### Task 1: Identify Duplicate Rows\n",
    "1. Count the number of duplicate rows in the dataset.\n",
    "3. Display the first few duplicate rows to understand their structure.\n"
   ]
  },
  {
   "cell_type": "code",
   "execution_count": 9,
   "metadata": {
    "collapsed": true,
    "jupyter": {
     "outputs_hidden": true
    },
    "scrolled": true
   },
   "outputs": [
    {
     "name": "stdout",
     "output_type": "stream",
     "text": [
      "   ResponseId                      MainBranch                 Age  \\\n",
      "0           1  I am a developer by profession  Under 18 years old   \n",
      "1           2  I am a developer by profession     35-44 years old   \n",
      "2           3  I am a developer by profession     45-54 years old   \n",
      "3           4           I am learning to code     18-24 years old   \n",
      "4           5  I am a developer by profession     18-24 years old   \n",
      "\n",
      "            Employment RemoteWork   Check  \\\n",
      "0  Employed, full-time     Remote  Apples   \n",
      "1  Employed, full-time     Remote  Apples   \n",
      "2  Employed, full-time     Remote  Apples   \n",
      "3   Student, full-time        NaN  Apples   \n",
      "4   Student, full-time        NaN  Apples   \n",
      "\n",
      "                                    CodingActivities  \\\n",
      "0                                              Hobby   \n",
      "1  Hobby;Contribute to open-source projects;Other...   \n",
      "2  Hobby;Contribute to open-source projects;Other...   \n",
      "3                                                NaN   \n",
      "4                                                NaN   \n",
      "\n",
      "                                             EdLevel  \\\n",
      "0                          Primary/elementary school   \n",
      "1       Bachelor’s degree (B.A., B.S., B.Eng., etc.)   \n",
      "2    Master’s degree (M.A., M.S., M.Eng., MBA, etc.)   \n",
      "3  Some college/university study without earning ...   \n",
      "4  Secondary school (e.g. American high school, G...   \n",
      "\n",
      "                                           LearnCode  \\\n",
      "0                             Books / Physical media   \n",
      "1  Books / Physical media;Colleague;On the job tr...   \n",
      "2  Books / Physical media;Colleague;On the job tr...   \n",
      "3  Other online resources (e.g., videos, blogs, f...   \n",
      "4  Other online resources (e.g., videos, blogs, f...   \n",
      "\n",
      "                                     LearnCodeOnline  ... JobSatPoints_6  \\\n",
      "0                                                NaN  ...            NaN   \n",
      "1  Technical documentation;Blogs;Books;Written Tu...  ...            0.0   \n",
      "2  Technical documentation;Blogs;Books;Written Tu...  ...            NaN   \n",
      "3  Stack Overflow;How-to videos;Interactive tutorial  ...            NaN   \n",
      "4  Technical documentation;Blogs;Written Tutorial...  ...            NaN   \n",
      "\n",
      "  JobSatPoints_7 JobSatPoints_8 JobSatPoints_9 JobSatPoints_10  \\\n",
      "0            NaN            NaN            NaN             NaN   \n",
      "1            0.0            0.0            0.0             0.0   \n",
      "2            NaN            NaN            NaN             NaN   \n",
      "3            NaN            NaN            NaN             NaN   \n",
      "4            NaN            NaN            NaN             NaN   \n",
      "\n",
      "  JobSatPoints_11           SurveyLength SurveyEase ConvertedCompYearly JobSat  \n",
      "0             NaN                    NaN        NaN                 NaN    NaN  \n",
      "1             0.0                    NaN        NaN                 NaN    NaN  \n",
      "2             NaN  Appropriate in length       Easy                 NaN    NaN  \n",
      "3             NaN               Too long       Easy                 NaN    NaN  \n",
      "4             NaN              Too short       Easy                 NaN    NaN  \n",
      "\n",
      "[5 rows x 114 columns]\n"
     ]
    }
   ],
   "source": [
    "## Write your code here\n",
    "print(df.head())"
   ]
  },
  {
   "cell_type": "markdown",
   "metadata": {},
   "source": [
    "### Task 2: Analyze Characteristics of Duplicates\n",
    "1. Identify duplicate rows based on selected columns such as MainBranch, Employment, and RemoteWork. Analyse which columns frequently contain identical values within these duplicate rows.\n",
    "2. Analyse the characteristics of rows that are duplicates based on a subset of columns, such as MainBranch, Employment, and RemoteWork. Determine which columns frequently have identical values across these rows.\n",
    "   \n"
   ]
  },
  {
   "cell_type": "code",
   "execution_count": 10,
   "metadata": {
    "scrolled": true
   },
   "outputs": [
    {
     "name": "stdout",
     "output_type": "stream",
     "text": [
      "\n",
      "Duplicate Rows:\n",
      "       ResponseId                                         MainBranch  \\\n",
      "65437           1                     I am a developer by profession   \n",
      "65438           2                     I am a developer by profession   \n",
      "65439           3                     I am a developer by profession   \n",
      "65440           4                              I am learning to code   \n",
      "65441           5                     I am a developer by profession   \n",
      "65442           6                        I code primarily as a hobby   \n",
      "65443           7  I am not primarily a developer, but I write co...   \n",
      "65444           8                              I am learning to code   \n",
      "65445           9                        I code primarily as a hobby   \n",
      "65446          10                     I am a developer by profession   \n",
      "65447       18522                     I am a developer by profession   \n",
      "65448       49767                        I code primarily as a hobby   \n",
      "65449       51198                     I am a developer by profession   \n",
      "65450       44085                     I am a developer by profession   \n",
      "65451       22001  I am not primarily a developer, but I write co...   \n",
      "65452       35588  I am not primarily a developer, but I write co...   \n",
      "65453       50580                     I am a developer by profession   \n",
      "65454        9938                     I am a developer by profession   \n",
      "65455       40874                     I am a developer by profession   \n",
      "65456       36796                     I am a developer by profession   \n",
      "\n",
      "                      Age                                         Employment  \\\n",
      "65437  Under 18 years old                                Employed, full-time   \n",
      "65438     35-44 years old                                Employed, full-time   \n",
      "65439     45-54 years old                                Employed, full-time   \n",
      "65440     18-24 years old                                 Student, full-time   \n",
      "65441     18-24 years old                                 Student, full-time   \n",
      "65442  Under 18 years old                                 Student, full-time   \n",
      "65443     35-44 years old                                Employed, full-time   \n",
      "65444     18-24 years old  Student, full-time;Not employed, but looking f...   \n",
      "65445     45-54 years old                                Employed, full-time   \n",
      "65446     35-44 years old  Independent contractor, freelancer, or self-em...   \n",
      "65447     35-44 years old                                Employed, full-time   \n",
      "65448     18-24 years old                                 Student, full-time   \n",
      "65449     25-34 years old                                Employed, full-time   \n",
      "65450     35-44 years old                                Employed, full-time   \n",
      "65451     18-24 years old                                Employed, full-time   \n",
      "65452     18-24 years old             Student, full-time;Employed, part-time   \n",
      "65453     18-24 years old            Employed, full-time;Employed, part-time   \n",
      "65454     35-44 years old  Employed, full-time;Independent contractor, fr...   \n",
      "65455     25-34 years old                                Employed, full-time   \n",
      "65456   65 years or older                                            Retired   \n",
      "\n",
      "                                 RemoteWork   Check  \\\n",
      "65437                                Remote  Apples   \n",
      "65438                                Remote  Apples   \n",
      "65439                                Remote  Apples   \n",
      "65440                                   NaN  Apples   \n",
      "65441                                   NaN  Apples   \n",
      "65442                                   NaN  Apples   \n",
      "65443                                Remote  Apples   \n",
      "65444                                   NaN  Apples   \n",
      "65445                             In-person  Apples   \n",
      "65446                                Remote  Apples   \n",
      "65447                                Remote  Apples   \n",
      "65448                                   NaN  Apples   \n",
      "65449  Hybrid (some remote, some in-person)  Apples   \n",
      "65450  Hybrid (some remote, some in-person)  Apples   \n",
      "65451                                Remote  Apples   \n",
      "65452                             In-person  Apples   \n",
      "65453                                Remote  Apples   \n",
      "65454  Hybrid (some remote, some in-person)  Apples   \n",
      "65455                                Remote  Apples   \n",
      "65456                                   NaN  Apples   \n",
      "\n",
      "                                        CodingActivities  \\\n",
      "65437                                              Hobby   \n",
      "65438  Hobby;Contribute to open-source projects;Other...   \n",
      "65439  Hobby;Contribute to open-source projects;Other...   \n",
      "65440                                                NaN   \n",
      "65441                                                NaN   \n",
      "65442                                                NaN   \n",
      "65443                       I don’t code outside of work   \n",
      "65444                                                NaN   \n",
      "65445                                              Hobby   \n",
      "65446                           Bootstrapping a business   \n",
      "65447                      Hobby;Freelance/contract work   \n",
      "65448                                                NaN   \n",
      "65449           Hobby;Contribute to open-source projects   \n",
      "65450                       I don’t code outside of work   \n",
      "65451  Hobby;School or academic work;Professional dev...   \n",
      "65452  Hobby;Contribute to open-source projects;Schoo...   \n",
      "65453                      Hobby;Freelance/contract work   \n",
      "65454  Bootstrapping a business;School or academic wo...   \n",
      "65455                       I don’t code outside of work   \n",
      "65456                                                NaN   \n",
      "\n",
      "                                                 EdLevel  \\\n",
      "65437                          Primary/elementary school   \n",
      "65438       Bachelor’s degree (B.A., B.S., B.Eng., etc.)   \n",
      "65439    Master’s degree (M.A., M.S., M.Eng., MBA, etc.)   \n",
      "65440  Some college/university study without earning ...   \n",
      "65441  Secondary school (e.g. American high school, G...   \n",
      "65442                          Primary/elementary school   \n",
      "65443     Professional degree (JD, MD, Ph.D, Ed.D, etc.)   \n",
      "65444  Secondary school (e.g. American high school, G...   \n",
      "65445     Professional degree (JD, MD, Ph.D, Ed.D, etc.)   \n",
      "65446    Master’s degree (M.A., M.S., M.Eng., MBA, etc.)   \n",
      "65447       Bachelor’s degree (B.A., B.S., B.Eng., etc.)   \n",
      "65448                                                NaN   \n",
      "65449       Bachelor’s degree (B.A., B.S., B.Eng., etc.)   \n",
      "65450       Bachelor’s degree (B.A., B.S., B.Eng., etc.)   \n",
      "65451       Bachelor’s degree (B.A., B.S., B.Eng., etc.)   \n",
      "65452  Some college/university study without earning ...   \n",
      "65453  Some college/university study without earning ...   \n",
      "65454    Master’s degree (M.A., M.S., M.Eng., MBA, etc.)   \n",
      "65455  Some college/university study without earning ...   \n",
      "65456  Some college/university study without earning ...   \n",
      "\n",
      "                                               LearnCode  \\\n",
      "65437                             Books / Physical media   \n",
      "65438  Books / Physical media;Colleague;On the job tr...   \n",
      "65439  Books / Physical media;Colleague;On the job tr...   \n",
      "65440  Other online resources (e.g., videos, blogs, f...   \n",
      "65441  Other online resources (e.g., videos, blogs, f...   \n",
      "65442  School (i.e., University, College, etc);Online...   \n",
      "65443  Other online resources (e.g., videos, blogs, f...   \n",
      "65444  Other online resources (e.g., videos, blogs, f...   \n",
      "65445  Books / Physical media;Other online resources ...   \n",
      "65446  On the job training;Other online resources (e....   \n",
      "65447  Colleague;Other online resources (e.g., videos...   \n",
      "65448                                                NaN   \n",
      "65449  Books / Physical media;Online Courses or Certi...   \n",
      "65450  On the job training;Other online resources (e....   \n",
      "65451  On the job training;Other online resources (e....   \n",
      "65452  Other online resources (e.g., videos, blogs, f...   \n",
      "65453  Colleague;Other online resources (e.g., videos...   \n",
      "65454  Books / Physical media;On the job training;Oth...   \n",
      "65455  Books / Physical media;Other online resources ...   \n",
      "65456  Books / Physical media;School (i.e., Universit...   \n",
      "\n",
      "                                         LearnCodeOnline  ... JobSatPoints_6  \\\n",
      "65437                                                NaN  ...            NaN   \n",
      "65438  Technical documentation;Blogs;Books;Written Tu...  ...            0.0   \n",
      "65439  Technical documentation;Blogs;Books;Written Tu...  ...            NaN   \n",
      "65440  Stack Overflow;How-to videos;Interactive tutorial  ...            NaN   \n",
      "65441  Technical documentation;Blogs;Written Tutorial...  ...            NaN   \n",
      "65442                                                NaN  ...            NaN   \n",
      "65443  Technical documentation;Stack Overflow;Written...  ...            NaN   \n",
      "65444  Technical documentation;Video-based Online Cou...  ...            NaN   \n",
      "65445        Stack Overflow;Written-based Online Courses  ...            NaN   \n",
      "65446  Technical documentation;Blogs;Written Tutorial...  ...            NaN   \n",
      "65447  Technical documentation;Written Tutorials;Stac...  ...            0.0   \n",
      "65448                                                NaN  ...            NaN   \n",
      "65449                                                NaN  ...            0.0   \n",
      "65450  Coding sessions (live or recorded);Social Medi...  ...            NaN   \n",
      "65451  Technical documentation;Written Tutorials;Stac...  ...            NaN   \n",
      "65452                                                NaN  ...            NaN   \n",
      "65453  Technical documentation;Blogs;Written Tutorial...  ...           50.0   \n",
      "65454  Technical documentation;Blogs;Books;Stack Over...  ...            0.0   \n",
      "65455  Technical documentation;Blogs;Books;Stack Over...  ...            0.0   \n",
      "65456                                                NaN  ...            NaN   \n",
      "\n",
      "      JobSatPoints_7 JobSatPoints_8 JobSatPoints_9 JobSatPoints_10  \\\n",
      "65437            NaN            NaN            NaN             NaN   \n",
      "65438            0.0            0.0            0.0             0.0   \n",
      "65439            NaN            NaN            NaN             NaN   \n",
      "65440            NaN            NaN            NaN             NaN   \n",
      "65441            NaN            NaN            NaN             NaN   \n",
      "65442            NaN            NaN            NaN             NaN   \n",
      "65443            NaN            NaN            NaN             NaN   \n",
      "65444            NaN            NaN            NaN             NaN   \n",
      "65445            NaN            NaN            NaN             NaN   \n",
      "65446            NaN            NaN            NaN             NaN   \n",
      "65447            0.0            0.0            0.0             0.0   \n",
      "65448            NaN            NaN            NaN             NaN   \n",
      "65449            0.0            0.0            0.0             0.0   \n",
      "65450            NaN            NaN            NaN             NaN   \n",
      "65451            NaN            NaN            NaN             NaN   \n",
      "65452            NaN            NaN            NaN             NaN   \n",
      "65453           50.0           90.0            0.0             0.0   \n",
      "65454           60.0           60.0           50.0             0.0   \n",
      "65455            0.0            0.0            0.0             0.0   \n",
      "65456            NaN            NaN            NaN             NaN   \n",
      "\n",
      "      JobSatPoints_11           SurveyLength                  SurveyEase  \\\n",
      "65437             NaN                    NaN                         NaN   \n",
      "65438             0.0                    NaN                         NaN   \n",
      "65439             NaN  Appropriate in length                        Easy   \n",
      "65440             NaN               Too long                        Easy   \n",
      "65441             NaN              Too short                        Easy   \n",
      "65442             NaN  Appropriate in length                        Easy   \n",
      "65443             NaN               Too long  Neither easy nor difficult   \n",
      "65444             NaN  Appropriate in length                   Difficult   \n",
      "65445             NaN  Appropriate in length  Neither easy nor difficult   \n",
      "65446             NaN               Too long                        Easy   \n",
      "65447             0.0                    NaN  Neither easy nor difficult   \n",
      "65448             NaN                    NaN                         NaN   \n",
      "65449             0.0  Appropriate in length  Neither easy nor difficult   \n",
      "65450             NaN  Appropriate in length                        Easy   \n",
      "65451             NaN  Appropriate in length                        Easy   \n",
      "65452             NaN  Appropriate in length  Neither easy nor difficult   \n",
      "65453             0.0               Too long                        Easy   \n",
      "65454            50.0  Appropriate in length                        Easy   \n",
      "65455             0.0  Appropriate in length  Neither easy nor difficult   \n",
      "65456             NaN  Appropriate in length                        Easy   \n",
      "\n",
      "      ConvertedCompYearly JobSat  \n",
      "65437                 NaN    NaN  \n",
      "65438                 NaN    NaN  \n",
      "65439                 NaN    NaN  \n",
      "65440                 NaN    NaN  \n",
      "65441                 NaN    NaN  \n",
      "65442                 NaN    NaN  \n",
      "65443                 NaN    NaN  \n",
      "65444                 NaN    NaN  \n",
      "65445                 NaN    NaN  \n",
      "65446                 NaN    NaN  \n",
      "65447            256608.0    9.0  \n",
      "65448                 NaN    NaN  \n",
      "65449                 NaN    3.0  \n",
      "65450                 NaN    NaN  \n",
      "65451                 NaN    NaN  \n",
      "65452                 NaN    NaN  \n",
      "65453                 NaN    9.0  \n",
      "65454               997.0    4.0  \n",
      "65455                 NaN    6.0  \n",
      "65456                 NaN    NaN  \n",
      "\n",
      "[20 rows x 114 columns]\n"
     ]
    }
   ],
   "source": [
    "## Write your code here\n",
    "duplicate_rows = df[df.duplicated()]\n",
    "print(\"\\nDuplicate Rows:\")\n",
    "print(duplicate_rows)"
   ]
  },
  {
   "cell_type": "markdown",
   "metadata": {},
   "source": [
    "### Task 3: Visualize Duplicates Distribution\n",
    "1. Create visualizations to show the distribution of duplicates across different categories.\n",
    "2. Use bar charts or pie charts to represent the distribution of duplicates by Country and Employment.\n"
   ]
  },
  {
   "cell_type": "code",
   "execution_count": 11,
   "metadata": {},
   "outputs": [
    {
     "name": "stdout",
     "output_type": "stream",
     "text": [
      "\n",
      "Number of Duplicate Rows: 20\n"
     ]
    }
   ],
   "source": [
    "## Write your code here\n",
    "# Analyze Duplicates\n",
    "print(\"\\nNumber of Duplicate Rows:\", len(duplicate_rows))"
   ]
  },
  {
   "cell_type": "markdown",
   "metadata": {},
   "source": [
    "### Task 4: Strategic Removal of Duplicates\n",
    "1. Decide which columns are critical for defining uniqueness in the dataset.\n",
    "2. Remove duplicates based on a subset of columns if complete row duplication is not a good criterion.\n"
   ]
  },
  {
   "cell_type": "code",
   "execution_count": 12,
   "metadata": {},
   "outputs": [
    {
     "name": "stdout",
     "output_type": "stream",
     "text": [
      "\n",
      "Number of Rows After Removing Duplicates: 65437\n"
     ]
    }
   ],
   "source": [
    "## Write your code here\n",
    "# Verify and Document Duplicate Removal Process\n",
    "\n",
    "# Remove Duplicates\n",
    "df_no_duplicates = df.drop_duplicates()\n",
    "\n",
    "# Verify Removal\n",
    "print(\"\\nNumber of Rows After Removing Duplicates:\", len(df_no_duplicates))"
   ]
  },
  {
   "cell_type": "markdown",
   "metadata": {},
   "source": [
    "## Verify and Document Duplicate Removal Process\n"
   ]
  },
  {
   "cell_type": "markdown",
   "metadata": {},
   "source": [
    "### Task 5: Documentation\n",
    "1. Document the process of identifying and removing duplicates.\n"
   ]
  },
  {
   "cell_type": "raw",
   "metadata": {},
   "source": [
    "# Write your explanation here\n",
    "\n",
    "**Explain the process of identifying and removing duplicates.*\n",
    "\"\"\"\n",
    "1. Identifying Duplicates:\n",
    "   - We used the `df.duplicated()` method to create a boolean mask indicating which rows are duplicates.\n",
    "   - We then used this mask to filter the DataFrame and display the duplicate rows.\n",
    "\n",
    "2. Analyzing Duplicates:\n",
    "   - We counted the number of duplicate rows using `len(duplicate_rows)` to understand the extent of duplication.\n",
    "\n",
    "3. Removing Duplicates:\n",
    "   - We used the `df.drop_duplicates()` method to remove all duplicate rows from the DataFrame, creating a new DataFrame `df_no_duplicates`.\n",
    "   - We verified the removal by comparing the number of rows before and after removing duplicates.\n",
    "\"\"\""
   ]
  },
  {
   "cell_type": "markdown",
   "metadata": {},
   "source": [
    "2. Explain the reasoning behind selecting specific columns for identifying and removing duplicates.\n"
   ]
  },
  {
   "cell_type": "raw",
   "metadata": {},
   "source": [
    "# Write your explanation here\n",
    "# Explain the reasoning behind selecting specific columns for identifying and removing duplicates.\n",
    "\"\"\"\n",
    "In this case, we used the default behavior of `df.duplicated()` and `df.drop_duplicates()`, which considers all columns to identify duplicates. This means that a row is considered a duplicate only if all its values are identical to another row.\n",
    "\n",
    "If we wanted to consider only specific columns for identifying duplicates, we could have used the `subset` parameter. For example:\n",
    "`df.drop_duplicates(subset=['MainBranch', 'Age', 'Employment'])`\n",
    "\n",
    "Selecting specific columns for identifying duplicates is useful when:\n",
    "- We are interested in identifying duplicates based on a subset of key identifiers (e.g., user IDs, unique identifiers).\n",
    "- Some columns might contain noisy or irrelevant data that should not be considered for duplicate detection.\n",
    "- We want to identify duplicates based on a specific business logic (e.g., identifying duplicate user accounts based on email and username).\n",
    "\n",
    "In the given dataset, since we were not provided with specific instructions to select columns, we proceeded with the default behavior of considering all columns. However, if we were given the task of removing duplicates based on certain columns, we would use the subset parameter to achieve that. For example, if we wanted to remove duplicates based on the 'ResponseId' column, we would use:\n",
    "df.drop_duplicates(subset=['ResponseId'])\n",
    "\"\"\""
   ]
  },
  {
   "cell_type": "markdown",
   "metadata": {},
   "source": [
    "### Summary and Next Steps\n",
    "**In this lab, you focused on identifying and analyzing duplicate rows within the dataset.**\n",
    "\n",
    "- You employed various techniques to explore the nature of duplicates and applied strategic methods for their removal.\n",
    "- For additional analysis, consider investigating the impact of duplicates on specific analyses and how their removal affects the results.\n",
    "- This version of the lab is more focused on duplicate analysis and handling, providing a structured approach to deal with duplicates in a dataset effectively.\n"
   ]
  },
  {
   "cell_type": "markdown",
   "metadata": {},
   "source": [
    "<!--\n",
    "## Change Log\n",
    "|Date (YYYY-MM-DD)|Version|Changed By|Change Description|\n",
    "|-|-|-|-|\n",
    "|2024-11- 05|1.3|Madhusudhan Moole|Updated lab|\n",
    "|2024-10-28|1.2|Madhusudhan Moole|Updated lab|\n",
    "|2024-09-24|1.1|Madhusudhan Moole|Updated lab|\n",
    "|2024-09-23|1.0|Raghul Ramesh|Created lab|\n",
    "--!>\n"
   ]
  },
  {
   "cell_type": "markdown",
   "metadata": {},
   "source": [
    "Copyright © IBM Corporation. All rights reserved.\n"
   ]
  }
 ],
 "metadata": {
  "kernelspec": {
   "display_name": "Python 3 (ipykernel)",
   "language": "python",
   "name": "python3"
  },
  "language_info": {
   "codemirror_mode": {
    "name": "ipython",
    "version": 3
   },
   "file_extension": ".py",
   "mimetype": "text/x-python",
   "name": "python",
   "nbconvert_exporter": "python",
   "pygments_lexer": "ipython3",
   "version": "3.12.8"
  },
  "prev_pub_hash": "fa3493caccf457f2b33a3a72ca6bf5789c2ce4157ea6e40534b09cc8380e8ae5"
 },
 "nbformat": 4,
 "nbformat_minor": 4
}
